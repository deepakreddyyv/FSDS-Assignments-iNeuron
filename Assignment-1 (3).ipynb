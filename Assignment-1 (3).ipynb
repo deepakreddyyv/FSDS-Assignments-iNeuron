{
 "cells": [
  {
   "cell_type": "markdown",
   "id": "9a33dee7",
   "metadata": {},
   "source": [
    "## 1. In the below elements which of them are values or an expression? eg:- values can be integer or string and expressions will be mathematical operators.\n",
    "\n",
    "\n",
    "* = expressions,\n",
    "'hello' = values,\n",
    "-87.8 : values,\n",
    "- = expressions,\n",
    "/ = expressions,\n",
    "+ = expressions,\n"
   ]
  },
  {
   "cell_type": "markdown",
   "id": "a76ca6ff",
   "metadata": {},
   "source": [
    "## 2. What is the difference between string and variable?\n",
    "\n",
    "String is a data type which holds data as text, text can be numbers, special characters, alphabets, alphanumeric in double or single quotes which stores in form of set of characters each character has its uniques value i.e index numbers\n",
    "ex : 'hello', '1234', '@#$', 'aslop0989'\n",
    "\n",
    "variable is name assigned to an value, where the value is stored in the memory. Its value can be changed, and it can be reused many times."
   ]
  },
  {
   "cell_type": "markdown",
   "id": "2265f7ce",
   "metadata": {},
   "source": [
    "## 3. Describe three different data types.\n",
    "\n",
    "int : it holds the integer value\n",
    "ex : 1, 2, -3, -10, 100\n",
    "\n",
    "string : it holds the value as text, each character in a string stored in index's\n",
    "ex: 'hello', '1234', 'alop76'\n",
    "\n",
    "float : it holds the value in form of floting point numbers\n",
    "ex : 12.5, 34.89, 123.89 ext.."
   ]
  },
  {
   "cell_type": "markdown",
   "id": "5d045342",
   "metadata": {},
   "source": [
    "## 4. What is an expression made up of? What do all expressions do?\n",
    "\n",
    "An expression is a combination of operators and operands, The operator denotes the action or operation to be performed. The operands are the items to which we apply the operation.\n",
    "\n",
    "ex: 4 + 6, 'hello '+' world'\n",
    "\n",
    "expression computes a single value stored in a variable\n",
    "ex : 4+6, which results in 10 and the value is stored in a variable as 10"
   ]
  },
  {
   "cell_type": "markdown",
   "id": "ed00abda",
   "metadata": {},
   "source": [
    "## 5 This assignment statements, like spam = 10. What is the difference between an expression and a statement?\n",
    "\n",
    "A statement is a command given to the computer that instructs the computer to take a specific action, such as display to the screen, or collect input.\n",
    "ex : print('hello'), spam = 10\n",
    "\n",
    "expression is a combination of operator and operand which returns a result, the result is stored in a variable of compatible data type, all combined(datatype, variable, expression) makes a statement\n",
    "\n",
    "spam = 10, assignment statement"
   ]
  },
  {
   "cell_type": "markdown",
   "id": "67dfd4cf",
   "metadata": {},
   "source": [
    "## 6 After running the following code, what does the variable bacon contain?\n",
    "\n",
    "bacon = 22\n",
    "bacon + 1\n",
    "\n",
    "bacon will still be 22, because we are adding 1 to bacon but no assigned to a bacon variable\n",
    "\n",
    "bacon = 22\n",
    "bacon = bacon + 1\n",
    "\n",
    "now bacon will be 23"
   ]
  },
  {
   "cell_type": "markdown",
   "id": "c6d69782",
   "metadata": {},
   "source": [
    "## 7 What should the values of the following two terms be?\n",
    "\n",
    "test1 : 'spam'+'spamspam'\n",
    "\n",
    "test2 : 'spam' * 3\n",
    "\n",
    "\n",
    "both returns the same result i.e spamspamspam\n",
    "in test1 the spam concates with spamspam and yields spamspamspam as result\n",
    "\n",
    "in test2 the spam is multiplied by 3 times which results in spamspamspam"
   ]
  },
  {
   "cell_type": "code",
   "execution_count": 6,
   "id": "99d380ab",
   "metadata": {
    "scrolled": false
   },
   "outputs": [
    {
     "name": "stdout",
     "output_type": "stream",
     "text": [
      "spamspamspam\n",
      "spamspamspam\n"
     ]
    }
   ],
   "source": [
    "print('spam'+'spamspam')\n",
    "print('spam'*3)\n"
   ]
  },
  {
   "cell_type": "markdown",
   "id": "e028b5f3",
   "metadata": {},
   "source": [
    "## 8 Why is eggs a valid variable name while 100 is invalid?\n",
    "\n",
    "variable name should start with a letter or an underscore ex : abc, _abc\n",
    "a variable cannot start with a letter or a special character, variable can be aplha numeric ex: abc1, abc2 etc.."
   ]
  },
  {
   "cell_type": "markdown",
   "id": "a75709d4",
   "metadata": {},
   "source": [
    "## 9 What three functions can be used to get the integer, floating-point number, or string version of a value?\n",
    "\n"
   ]
  },
  {
   "cell_type": "code",
   "execution_count": 8,
   "id": "60ddc64e",
   "metadata": {},
   "outputs": [
    {
     "name": "stdout",
     "output_type": "stream",
     "text": [
      "Enter a integer number : 10\n",
      "Enter a floating number : 10.99\n",
      "Enter your name : deepak\n",
      "10, 10.99, deepak\n",
      "10\n"
     ]
    }
   ],
   "source": [
    "a = int(input(\"Enter a integer number : \"))\n",
    "b = float(input(\"Enter a floating number : \"))\n",
    "c = input(\"Enter your name : \")\n",
    "\n",
    "print(f\"{a}, {b}, {c}\")\n",
    "\n",
    "# converting int to string\n",
    "\n",
    "print(str(a))"
   ]
  },
  {
   "cell_type": "markdown",
   "id": "5bfe9610",
   "metadata": {},
   "source": [
    "## 10 Why does this expression cause an error? How can you fix it?\n",
    "\n",
    "'i have eaten' + 99 + 'burritos'\n",
    "\n",
    "It can only concatenate string not integer"
   ]
  },
  {
   "cell_type": "code",
   "execution_count": 12,
   "id": "2dfdfec9",
   "metadata": {},
   "outputs": [
    {
     "name": "stdout",
     "output_type": "stream",
     "text": [
      "i have eaten 99 burritos\n",
      "i have eaten 99 burritos\n"
     ]
    }
   ],
   "source": [
    "print(f'i have eaten {99} burritos')\n",
    "print('i have eaten {value} burritos'.format(value = 99))"
   ]
  },
  {
   "cell_type": "code",
   "execution_count": null,
   "id": "86959c49",
   "metadata": {},
   "outputs": [],
   "source": []
  }
 ],
 "metadata": {
  "kernelspec": {
   "display_name": "Python 3 (ipykernel)",
   "language": "python",
   "name": "python3"
  },
  "language_info": {
   "codemirror_mode": {
    "name": "ipython",
    "version": 3
   },
   "file_extension": ".py",
   "mimetype": "text/x-python",
   "name": "python",
   "nbconvert_exporter": "python",
   "pygments_lexer": "ipython3",
   "version": "3.9.7"
  }
 },
 "nbformat": 4,
 "nbformat_minor": 5
}
